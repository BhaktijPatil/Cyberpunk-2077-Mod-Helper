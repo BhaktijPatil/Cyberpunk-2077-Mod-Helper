{
 "cells": [
  {
   "cell_type": "code",
   "execution_count": 7,
   "id": "697302bc",
   "metadata": {},
   "outputs": [],
   "source": [
    "import os\n",
    "from pathlib import Path"
   ]
  },
  {
   "cell_type": "code",
   "execution_count": 8,
   "id": "e0030500",
   "metadata": {},
   "outputs": [],
   "source": [
    "def write_to_file(output_file, files):\n",
    "    \"\"\"Writes the contents of the files to the output file.\"\"\"\n",
    "    with open(output_file, 'w', encoding='utf-8') as outfile:\n",
    "        for file in files:\n",
    "            outfile.write(f\"File Name: {Path(file).name}\\n\")\n",
    "            outfile.write(f\"File Location: {file}\\n\\n\")\n",
    "            with open(file, 'r', encoding='utf-8') as infile:\n",
    "                outfile.write(infile.read())\n",
    "                outfile.write(\"\\n\\n-------------------------\\n\\n\")"
   ]
  },
  {
   "cell_type": "code",
   "execution_count": 9,
   "id": "83068e30",
   "metadata": {},
   "outputs": [],
   "source": [
    "def collect_files(directory, extensions):\n",
    "    \"\"\"Collects all files with the specified extensions in the given directory.\"\"\"\n",
    "    for root, dirs, files in os.walk(directory):\n",
    "        for file in files:\n",
    "            if any(file.endswith(ext) for ext in extensions):\n",
    "                yield os.path.join(root, file)"
   ]
  },
  {
   "cell_type": "code",
   "execution_count": 10,
   "id": "e47d5d20",
   "metadata": {},
   "outputs": [],
   "source": [
    "def main():\n",
    "    directory = input(\"Enter Repository Directory: \")\n",
    "    extensions = input(\"Enter the file extensions to include (comma-separated): \").split(',')\n",
    "    output_file = \"cyberpunk_repo.txt\"\n",
    "\n",
    "    files = collect_files(directory, extensions)\n",
    "    write_to_file(output_file, files)\n",
    "\n",
    "    print(f\"All files have been written to {output_file}\")"
   ]
  },
  {
   "cell_type": "code",
   "execution_count": 11,
   "id": "08fe5056",
   "metadata": {},
   "outputs": [
    {
     "name": "stdout",
     "output_type": "stream",
     "text": [
      "Enter Repository Directory: D:\\Projects\\CP 77\\cyberpunk\n",
      "Enter the file extensions to include (comma-separated): .swift\n",
      "All files have been written to cyberpunk_repo.txt\n"
     ]
    }
   ],
   "source": [
    "if __name__ == \"__main__\":\n",
    "    main()"
   ]
  },
  {
   "cell_type": "code",
   "execution_count": null,
   "id": "03193bf9",
   "metadata": {},
   "outputs": [],
   "source": []
  }
 ],
 "metadata": {
  "kernelspec": {
   "display_name": "Python 3 (ipykernel)",
   "language": "python",
   "name": "python3"
  },
  "language_info": {
   "codemirror_mode": {
    "name": "ipython",
    "version": 3
   },
   "file_extension": ".py",
   "mimetype": "text/x-python",
   "name": "python",
   "nbconvert_exporter": "python",
   "pygments_lexer": "ipython3",
   "version": "3.11.5"
  }
 },
 "nbformat": 4,
 "nbformat_minor": 5
}
